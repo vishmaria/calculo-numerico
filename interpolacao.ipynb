{
 "cells": [
  {
   "cell_type": "markdown",
   "metadata": {},
   "source": [
    "# Aproximação de funções: Interpolação\n",
    "### Ideia: obter função interpoladora $g(x)$, onde $(gx_i) = f(x_i)$."
   ]
  },
  {
   "cell_type": "markdown",
   "metadata": {},
   "source": [
    "### <font color='tomato'>Nota:</font> A condição parece promissora, mas em alguns casos a exigência de igualdade gera resultados diferentes do esperado."
   ]
  },
  {
   "cell_type": "markdown",
   "metadata": {},
   "source": [
    "### Obter o polinômio interpolador resolvendo um sistema linear:"
   ]
  },
  {
   "cell_type": "markdown",
   "metadata": {},
   "source": [
    "### *Exemplo 1:*\n",
    "\n",
    "#### Dada a tabela de valores da função $f(x)=e^x$. Aproxime (interpole) $f(x)$ em $x=1.32$.\n",
    "\n",
    "$$\\begin{array}{c|ccc}\n",
    "x & 1.3 & 1.4 & 1.5 \\\\\n",
    "\\hline\n",
    "f(x) & 3.669 & 4.055 & 4.482 \\\\\n",
    "\\end{array}$$\n"
   ]
  },
  {
   "cell_type": "code",
   "execution_count": null,
   "metadata": {},
   "outputs": [],
   "source": []
  }
 ],
 "metadata": {
  "kernelspec": {
   "display_name": ".venv",
   "language": "python",
   "name": "python3"
  },
  "language_info": {
   "name": "python",
   "version": "3.11.6"
  }
 },
 "nbformat": 4,
 "nbformat_minor": 2
}
